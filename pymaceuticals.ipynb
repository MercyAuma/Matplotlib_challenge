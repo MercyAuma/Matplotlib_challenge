{
 "cells": [
  {
   "cell_type": "code",
   "execution_count": 24,
   "metadata": {},
   "outputs": [],
   "source": [
    "# Dependencies and Setup\n",
    "import matplotlib.pyplot as plt\n",
    "import pandas as pd\n",
    "import scipy.stats as st\n",
    "from scipy.stats import linregress\n",
    "import numpy as np\n",
    "import random\n",
    "%matplotlib inline"
   ]
  },
  {
   "cell_type": "code",
   "execution_count": 25,
   "metadata": {},
   "outputs": [],
   "source": [
    "# Read the mouse data and the study results\n",
    "mouse_metadata = pd.read_csv(\"Resources\\Mouse_metadata.csv\")\n",
    "study_results = pd.read_csv(\"Resources\\Study_results.csv\")"
   ]
  },
  {
   "cell_type": "code",
   "execution_count": 26,
   "metadata": {},
   "outputs": [
    {
     "data": {
      "text/html": [
       "<div>\n",
       "<style scoped>\n",
       "    .dataframe tbody tr th:only-of-type {\n",
       "        vertical-align: middle;\n",
       "    }\n",
       "\n",
       "    .dataframe tbody tr th {\n",
       "        vertical-align: top;\n",
       "    }\n",
       "\n",
       "    .dataframe thead th {\n",
       "        text-align: right;\n",
       "    }\n",
       "</style>\n",
       "<table border=\"1\" class=\"dataframe\">\n",
       "  <thead>\n",
       "    <tr style=\"text-align: right;\">\n",
       "      <th></th>\n",
       "      <th>Mouse ID</th>\n",
       "      <th>Drug Regimen</th>\n",
       "      <th>Sex</th>\n",
       "      <th>Age_months</th>\n",
       "      <th>Weight (g)</th>\n",
       "      <th>Timepoint</th>\n",
       "      <th>Tumor Volume (mm3)</th>\n",
       "      <th>Metastatic Sites</th>\n",
       "    </tr>\n",
       "  </thead>\n",
       "  <tbody>\n",
       "    <tr>\n",
       "      <th>0</th>\n",
       "      <td>k403</td>\n",
       "      <td>Ramicane</td>\n",
       "      <td>Male</td>\n",
       "      <td>21</td>\n",
       "      <td>16</td>\n",
       "      <td>0</td>\n",
       "      <td>45.000000</td>\n",
       "      <td>0</td>\n",
       "    </tr>\n",
       "    <tr>\n",
       "      <th>1</th>\n",
       "      <td>k403</td>\n",
       "      <td>Ramicane</td>\n",
       "      <td>Male</td>\n",
       "      <td>21</td>\n",
       "      <td>16</td>\n",
       "      <td>5</td>\n",
       "      <td>38.825898</td>\n",
       "      <td>0</td>\n",
       "    </tr>\n",
       "    <tr>\n",
       "      <th>2</th>\n",
       "      <td>k403</td>\n",
       "      <td>Ramicane</td>\n",
       "      <td>Male</td>\n",
       "      <td>21</td>\n",
       "      <td>16</td>\n",
       "      <td>10</td>\n",
       "      <td>35.014271</td>\n",
       "      <td>1</td>\n",
       "    </tr>\n",
       "    <tr>\n",
       "      <th>3</th>\n",
       "      <td>k403</td>\n",
       "      <td>Ramicane</td>\n",
       "      <td>Male</td>\n",
       "      <td>21</td>\n",
       "      <td>16</td>\n",
       "      <td>15</td>\n",
       "      <td>34.223992</td>\n",
       "      <td>1</td>\n",
       "    </tr>\n",
       "    <tr>\n",
       "      <th>4</th>\n",
       "      <td>k403</td>\n",
       "      <td>Ramicane</td>\n",
       "      <td>Male</td>\n",
       "      <td>21</td>\n",
       "      <td>16</td>\n",
       "      <td>20</td>\n",
       "      <td>32.997729</td>\n",
       "      <td>1</td>\n",
       "    </tr>\n",
       "    <tr>\n",
       "      <th>...</th>\n",
       "      <td>...</td>\n",
       "      <td>...</td>\n",
       "      <td>...</td>\n",
       "      <td>...</td>\n",
       "      <td>...</td>\n",
       "      <td>...</td>\n",
       "      <td>...</td>\n",
       "      <td>...</td>\n",
       "    </tr>\n",
       "    <tr>\n",
       "      <th>1888</th>\n",
       "      <td>z969</td>\n",
       "      <td>Naftisol</td>\n",
       "      <td>Male</td>\n",
       "      <td>9</td>\n",
       "      <td>30</td>\n",
       "      <td>25</td>\n",
       "      <td>63.145652</td>\n",
       "      <td>2</td>\n",
       "    </tr>\n",
       "    <tr>\n",
       "      <th>1889</th>\n",
       "      <td>z969</td>\n",
       "      <td>Naftisol</td>\n",
       "      <td>Male</td>\n",
       "      <td>9</td>\n",
       "      <td>30</td>\n",
       "      <td>30</td>\n",
       "      <td>65.841013</td>\n",
       "      <td>3</td>\n",
       "    </tr>\n",
       "    <tr>\n",
       "      <th>1890</th>\n",
       "      <td>z969</td>\n",
       "      <td>Naftisol</td>\n",
       "      <td>Male</td>\n",
       "      <td>9</td>\n",
       "      <td>30</td>\n",
       "      <td>35</td>\n",
       "      <td>69.176246</td>\n",
       "      <td>4</td>\n",
       "    </tr>\n",
       "    <tr>\n",
       "      <th>1891</th>\n",
       "      <td>z969</td>\n",
       "      <td>Naftisol</td>\n",
       "      <td>Male</td>\n",
       "      <td>9</td>\n",
       "      <td>30</td>\n",
       "      <td>40</td>\n",
       "      <td>70.314904</td>\n",
       "      <td>4</td>\n",
       "    </tr>\n",
       "    <tr>\n",
       "      <th>1892</th>\n",
       "      <td>z969</td>\n",
       "      <td>Naftisol</td>\n",
       "      <td>Male</td>\n",
       "      <td>9</td>\n",
       "      <td>30</td>\n",
       "      <td>45</td>\n",
       "      <td>73.867845</td>\n",
       "      <td>4</td>\n",
       "    </tr>\n",
       "  </tbody>\n",
       "</table>\n",
       "<p>1893 rows × 8 columns</p>\n",
       "</div>"
      ],
      "text/plain": [
       "     Mouse ID Drug Regimen   Sex  Age_months  Weight (g)  Timepoint  \\\n",
       "0        k403     Ramicane  Male          21          16          0   \n",
       "1        k403     Ramicane  Male          21          16          5   \n",
       "2        k403     Ramicane  Male          21          16         10   \n",
       "3        k403     Ramicane  Male          21          16         15   \n",
       "4        k403     Ramicane  Male          21          16         20   \n",
       "...       ...          ...   ...         ...         ...        ...   \n",
       "1888     z969     Naftisol  Male           9          30         25   \n",
       "1889     z969     Naftisol  Male           9          30         30   \n",
       "1890     z969     Naftisol  Male           9          30         35   \n",
       "1891     z969     Naftisol  Male           9          30         40   \n",
       "1892     z969     Naftisol  Male           9          30         45   \n",
       "\n",
       "      Tumor Volume (mm3)  Metastatic Sites  \n",
       "0              45.000000                 0  \n",
       "1              38.825898                 0  \n",
       "2              35.014271                 1  \n",
       "3              34.223992                 1  \n",
       "4              32.997729                 1  \n",
       "...                  ...               ...  \n",
       "1888           63.145652                 2  \n",
       "1889           65.841013                 3  \n",
       "1890           69.176246                 4  \n",
       "1891           70.314904                 4  \n",
       "1892           73.867845                 4  \n",
       "\n",
       "[1893 rows x 8 columns]"
      ]
     },
     "execution_count": 26,
     "metadata": {},
     "output_type": "execute_result"
    }
   ],
   "source": [
    "# Combine the data into a single dataset\n",
    "mouse_data=pd.merge(mouse_metadata,study_results,on='Mouse ID')\n",
    "\n",
    "mouse_data\n"
   ]
  },
  {
   "cell_type": "code",
   "execution_count": 27,
   "metadata": {},
   "outputs": [
    {
     "data": {
      "text/html": [
       "<div>\n",
       "<style scoped>\n",
       "    .dataframe tbody tr th:only-of-type {\n",
       "        vertical-align: middle;\n",
       "    }\n",
       "\n",
       "    .dataframe tbody tr th {\n",
       "        vertical-align: top;\n",
       "    }\n",
       "\n",
       "    .dataframe thead th {\n",
       "        text-align: right;\n",
       "    }\n",
       "</style>\n",
       "<table border=\"1\" class=\"dataframe\">\n",
       "  <thead>\n",
       "    <tr style=\"text-align: right;\">\n",
       "      <th></th>\n",
       "      <th>mean</th>\n",
       "      <th>median</th>\n",
       "      <th>variance</th>\n",
       "      <th>standard deviation</th>\n",
       "      <th>SEM</th>\n",
       "    </tr>\n",
       "    <tr>\n",
       "      <th>Drug Regimen</th>\n",
       "      <th></th>\n",
       "      <th></th>\n",
       "      <th></th>\n",
       "      <th></th>\n",
       "      <th></th>\n",
       "    </tr>\n",
       "  </thead>\n",
       "  <tbody>\n",
       "    <tr>\n",
       "      <th>Capomulin</th>\n",
       "      <td>40.675741</td>\n",
       "      <td>41.557809</td>\n",
       "      <td>24.947764</td>\n",
       "      <td>4.994774</td>\n",
       "      <td>0.329346</td>\n",
       "    </tr>\n",
       "    <tr>\n",
       "      <th>Ceftamin</th>\n",
       "      <td>52.591172</td>\n",
       "      <td>51.776157</td>\n",
       "      <td>39.290177</td>\n",
       "      <td>6.268188</td>\n",
       "      <td>0.469821</td>\n",
       "    </tr>\n",
       "    <tr>\n",
       "      <th>Infubinol</th>\n",
       "      <td>52.884795</td>\n",
       "      <td>51.820584</td>\n",
       "      <td>43.128684</td>\n",
       "      <td>6.567243</td>\n",
       "      <td>0.492236</td>\n",
       "    </tr>\n",
       "    <tr>\n",
       "      <th>Ketapril</th>\n",
       "      <td>55.235638</td>\n",
       "      <td>53.698743</td>\n",
       "      <td>68.553577</td>\n",
       "      <td>8.279709</td>\n",
       "      <td>0.603860</td>\n",
       "    </tr>\n",
       "    <tr>\n",
       "      <th>Naftisol</th>\n",
       "      <td>54.331565</td>\n",
       "      <td>52.509285</td>\n",
       "      <td>66.173479</td>\n",
       "      <td>8.134708</td>\n",
       "      <td>0.596466</td>\n",
       "    </tr>\n",
       "    <tr>\n",
       "      <th>Placebo</th>\n",
       "      <td>54.033581</td>\n",
       "      <td>52.288934</td>\n",
       "      <td>61.168083</td>\n",
       "      <td>7.821003</td>\n",
       "      <td>0.581331</td>\n",
       "    </tr>\n",
       "    <tr>\n",
       "      <th>Propriva</th>\n",
       "      <td>52.322552</td>\n",
       "      <td>50.854632</td>\n",
       "      <td>42.351070</td>\n",
       "      <td>6.507770</td>\n",
       "      <td>0.512884</td>\n",
       "    </tr>\n",
       "    <tr>\n",
       "      <th>Ramicane</th>\n",
       "      <td>40.216745</td>\n",
       "      <td>40.673236</td>\n",
       "      <td>23.486704</td>\n",
       "      <td>4.846308</td>\n",
       "      <td>0.320955</td>\n",
       "    </tr>\n",
       "    <tr>\n",
       "      <th>Stelasyn</th>\n",
       "      <td>54.233149</td>\n",
       "      <td>52.431737</td>\n",
       "      <td>59.450562</td>\n",
       "      <td>7.710419</td>\n",
       "      <td>0.573111</td>\n",
       "    </tr>\n",
       "    <tr>\n",
       "      <th>Zoniferol</th>\n",
       "      <td>53.236507</td>\n",
       "      <td>51.818479</td>\n",
       "      <td>48.533355</td>\n",
       "      <td>6.966589</td>\n",
       "      <td>0.516398</td>\n",
       "    </tr>\n",
       "  </tbody>\n",
       "</table>\n",
       "</div>"
      ],
      "text/plain": [
       "                   mean     median   variance  standard deviation       SEM\n",
       "Drug Regimen                                                               \n",
       "Capomulin     40.675741  41.557809  24.947764            4.994774  0.329346\n",
       "Ceftamin      52.591172  51.776157  39.290177            6.268188  0.469821\n",
       "Infubinol     52.884795  51.820584  43.128684            6.567243  0.492236\n",
       "Ketapril      55.235638  53.698743  68.553577            8.279709  0.603860\n",
       "Naftisol      54.331565  52.509285  66.173479            8.134708  0.596466\n",
       "Placebo       54.033581  52.288934  61.168083            7.821003  0.581331\n",
       "Propriva      52.322552  50.854632  42.351070            6.507770  0.512884\n",
       "Ramicane      40.216745  40.673236  23.486704            4.846308  0.320955\n",
       "Stelasyn      54.233149  52.431737  59.450562            7.710419  0.573111\n",
       "Zoniferol     53.236507  51.818479  48.533355            6.966589  0.516398"
      ]
     },
     "execution_count": 27,
     "metadata": {},
     "output_type": "execute_result"
    }
   ],
   "source": [
    "# Generate a summary statistics table of mean, median, variance, standard deviation, and SEM of the tumor volume for each regimen\n",
    "mouse_data_regime_gb=mouse_data.groupby(\"Drug Regimen\")\n",
    "mouse_data_summary=mouse_data_regime_gb[[\"Tumor Volume (mm3)\"]].mean()\n",
    "mouse_data_summary=mouse_data_summary.rename(columns={\"Tumor Volume (mm3)\":\"mean\"})\n",
    "mouse_data_summary[\"median\"]=mouse_data_regime_gb[[\"Tumor Volume (mm3)\"]].median()\n",
    "mouse_data_summary[\"variance\"]=mouse_data_regime_gb[[\"Tumor Volume (mm3)\"]].var()\n",
    "mouse_data_summary[\"standard deviation\"]=mouse_data_regime_gb[[\"Tumor Volume (mm3)\"]].std()\n",
    "mouse_data_summary[\"SEM\"]=mouse_data_regime_gb[[\"Tumor Volume (mm3)\"]].sem()\n",
    "mouse_data_summary"
   ]
  },
  {
   "cell_type": "code",
   "execution_count": 28,
   "metadata": {},
   "outputs": [
    {
     "data": {
      "text/plain": [
       "array(['Ramicane', 'Capomulin', 'Infubinol', 'Placebo', 'Ceftamin',\n",
       "       'Stelasyn', 'Zoniferol', 'Ketapril', 'Propriva', 'Naftisol'],\n",
       "      dtype=object)"
      ]
     },
     "execution_count": 28,
     "metadata": {},
     "output_type": "execute_result"
    }
   ],
   "source": [
    "# Generate a bar plot showing number of data points for each treatment regimen using pandas\n",
    "Drug_Regimen=mouse_data[\"Drug Regimen\"].unique()\n",
    "x_axis = np.arange(len(Drug_Regimen)) \n",
    "Drug_Regimen"
   ]
  },
  {
   "cell_type": "code",
   "execution_count": 29,
   "metadata": {},
   "outputs": [
    {
     "data": {
      "image/png": "[encoded data removed]",
      "text/plain": [
       "<Figure size 432x288 with 1 Axes>"
      ]
     },
     "metadata": {
      "needs_background": "light"
     },
     "output_type": "display_data"
    },
    {
     "data": {
      "text/plain": [
       "<Figure size 432x288 with 0 Axes>"
      ]
     },
     "metadata": {},
     "output_type": "display_data"
    }
   ],
   "source": [
    "# Generate a bar plot showing number of data points for each treatment regimen using pandas\n",
    "mouse_data_summary_chart = mouse_data_summary.plot(kind='bar',width=1)\n",
    "\n",
    "# Set the xlabel and ylabel using class methods\n",
    "mouse_data_summary_chart.set_xlabel(\"Drug Regimen\")\n",
    "mouse_data_summary_chart.set_ylabel(\"Tumor Volume (mm3)\")\n",
    "mouse_data_summary_chart.set_title(\"Treatment regime analysis\")\n",
    "plt.legend(loc='upper left', bbox_to_anchor=(1.0, 0.5))\n",
    "\n",
    "plt.show()\n",
    "plt.tight_layout()"
   ]
  },
  {
   "cell_type": "code",
   "execution_count": 30,
   "metadata": {},
   "outputs": [
    {
     "data": {
      "image/png": "[encoded data removed]",
      "text/plain": [
       "<Figure size 432x288 with 1 Axes>"
      ]
     },
     "metadata": {
      "needs_background": "light"
     },
     "output_type": "display_data"
    }
   ],
   "source": [
    " # Generate a bar plot showing number of data points for each treatment regimen using pyplot\n",
    "Drug_Regimen=mouse_data[\"Drug Regimen\"].unique()\n",
    "# Set x axis and tick locations\n",
    "x_axis = np.arange(len(Drug_Regimen))\n",
    "#volume_label=np.arange(0,100,10)\n",
    "bar_width=0.3\n",
    "plt.bar(x_axis+0.00,mouse_data_summary[\"mean\"], color='b',width=bar_width,label=\"Mean\",align='edge')\n",
    "plt.bar(x_axis+0.25,mouse_data_summary[\"median\"], color='y',width=bar_width,label=\"Median\",align='edge')\n",
    "plt.bar(x_axis+0.5,mouse_data_summary[\"variance\"], color='g',width=bar_width,label=\"var\",align='edge')\n",
    "plt.bar(x_axis+0.75,mouse_data_summary[\"standard deviation\"], color='r',width=bar_width,label=\"std\",align='edge')\n",
    "plt.bar(x_axis+1.00,mouse_data_summary[\"SEM\"], color='k',width=bar_width,label=\"sem\",align='edge')\n",
    "tick_locations=[value for value in x_axis]\n",
    "plt.suptitle(\"Treatment regime analysis\")\n",
    "#plt.style.use('fivethirtyeight')\n",
    "plt.xticks(x_axis,Drug_Regimen,rotation='vertical')\n",
    "plt.legend(fontsize = 10,  bbox_to_anchor=(1.0, 0.5))\n",
    "plt.show()"
   ]
  },
  {
   "cell_type": "code",
   "execution_count": 31,
   "metadata": {},
   "outputs": [
    {
     "data": {
      "image/png": "[encoded data removed]",
      "text/plain": [
       "<Figure size 432x288 with 1 Axes>"
      ]
     },
     "metadata": {},
     "output_type": "display_data"
    }
   ],
   "source": [
    "# Generate a pie plot showing the distribution of female versus male mice using pandas\n",
    "mouse_data_gender_gb=mouse_data.groupby(\"Sex\")\n",
    "mouse_data_gender=mouse_data_gender_gb[\"Sex\"].count()\n",
    "mouse_data_gender\n",
    "\n",
    "\n",
    "#del mouse_data_gender.index.name\n",
    "mouse_data_gender_chart = mouse_data_gender.plot(kind='pie',subplots=True,legend='True',autopct=\"%1.1f%%\",startangle=140)\n",
    "plt.legend(loc='upper left', bbox_to_anchor=(1.0, 0.5),fontsize = 10)\n",
    "plt.suptitle(\"Mice sex distribution\")\n",
    "\n",
    "\n",
    "plt.show()\n"
   ]
  },
  {
   "cell_type": "code",
   "execution_count": 32,
   "metadata": {},
   "outputs": [
    {
     "data": {
      "image/png": "[encoded data removed]",
      "text/plain": [
       "<Figure size 432x288 with 1 Axes>"
      ]
     },
     "metadata": {},
     "output_type": "display_data"
    }
   ],
   "source": [
    " # Generate a pie plot showing the distribution of female versus male mice using pyplot\n",
    "labels = [\"Male\", \"Female\"]\n",
    "plt.pie(mouse_data_gender, labels=labels,shadow=True, autopct=\"%1.1f%%\",startangle=140)\n",
    "#plt.xticks(x_axis,Drug_Regimen,rotation='vertical')\n",
    "plt.legend(loc='upper left', bbox_to_anchor=(1.0, 0.5),fontsize = 10)\n",
    "plt.suptitle(\"Mice sex distribution\")\n",
    "plt.show()"
   ]
  },
  {
   "cell_type": "code",
   "execution_count": 33,
   "metadata": {},
   "outputs": [
    {
     "name": "stdout",
     "output_type": "stream",
     "text": [
      "The lower quartile of tumor volume is: 37.2898392225\n",
      "The upper quartile of tumor volume is: 58.463205455\n",
      "The interquartile range of tumor volume is: 21.1733662325\n",
      "The the median of tumor volume is: 45.0 \n",
      "Values below 5.529789873749998 could be outliers.\n",
      "Values above 90.22325480375 could be outliers.\n"
     ]
    }
   ],
   "source": [
    "# Calculate the final tumor volume of each mouse across four of the most promising treatment regimens.\n",
    "#Final treatment\n",
    "mouse_data_id_gp=mouse_data.groupby('Mouse ID')\n",
    "max_mouse_timepoint=mouse_data_id_gp[['Timepoint']].max()\n",
    "max_mouse_timepoint.reset_index(level=0, inplace=True)\n",
    "\n",
    "mouse_data_final_timepoint_df=pd.merge(mouse_data,max_mouse_timepoint ,on=[\"Mouse ID\",\"Timepoint\"])\n",
    "#Top 4 treatment regime\n",
    "Top_4_regime=mouse_data_summary.sort_values(\"median\")\n",
    "Top_4_regime=Top_4_regime.nsmallest(4,\"median\")\n",
    "Top_4_regime.reset_index(level=0, inplace=True)\n",
    "Top_4_regime=Top_4_regime[[\"Drug Regimen\"]]\n",
    "\n",
    "mouse_final_timepoint_df=pd.merge(mouse_data_final_timepoint_df,Top_4_regime ,on=\"Drug Regimen\")\n",
    "mouse_final_timepoint_df\n",
    "\n",
    "#Calculate the IQR and quantitatively determine if there are any potential outliers. \n",
    "quartiles = mouse_final_timepoint_df['Tumor Volume (mm3)'].quantile([.25,.5,.75])\n",
    "lowerq = quartiles[0.25]\n",
    "upperq = quartiles[0.75]\n",
    "iqr = upperq-lowerq\n",
    "\n",
    "print(f\"The lower quartile of tumor volume is: {lowerq}\")\n",
    "print(f\"The upper quartile of tumor volume is: {upperq}\")\n",
    "print(f\"The interquartile range of tumor volume is: {iqr}\")\n",
    "print(f\"The the median of tumor volume is: {quartiles[0.5]} \")\n",
    "\n",
    "lower_bound = lowerq - (1.5*iqr)\n",
    "upper_bound = upperq + (1.5*iqr)\n",
    "print(f\"Values below {lower_bound} could be outliers.\")\n",
    "print(f\"Values above {upper_bound} could be outliers.\")\n",
    "\n",
    "\n",
    "\n",
    "\n",
    "\n"
   ]
  },
  {
   "cell_type": "code",
   "execution_count": 34,
   "metadata": {},
   "outputs": [
    {
     "data": {
      "image/png": "[encoded data removed]",
      "text/plain": [
       "<Figure size 432x288 with 1 Axes>"
      ]
     },
     "metadata": {
      "needs_background": "light"
     },
     "output_type": "display_data"
    }
   ],
   "source": [
    "# Generate a box plot of the final tumor volume of each mouse across four regimens of interest\n",
    "mouse_final_timepoint_df\n",
    "regime = mouse_final_timepoint_df['Drug Regimen']\n",
    "mouse_final_box_df=mouse_final_timepoint_df[['Mouse ID','Drug Regimen','Tumor Volume (mm3)']]\n",
    "\n",
    "Capomulin_final_box_df=mouse_final_timepoint_df.loc[mouse_final_timepoint_df['Drug Regimen']=='Capomulin']\n",
    "Capomulin_df=Capomulin_final_box_df['Tumor Volume (mm3)']\n",
    "Capomulin_df=Capomulin_df.rename(columns={'Tumor Volume (mm3)':'Capomulin'})\n",
    "\n",
    "Propriva_final_box_df=mouse_final_timepoint_df.loc[mouse_final_timepoint_df['Drug Regimen']=='Propriva']\n",
    "Propriva_df=Propriva_final_box_df['Tumor Volume (mm3)']\n",
    "Propriva_df=Propriva_df.rename(columns={'Tumor Volume (mm3)':'Propriva'})\n",
    "\n",
    "Ramicane_final_box_df=mouse_final_timepoint_df.loc[mouse_final_timepoint_df['Drug Regimen']=='Ramicane']\n",
    "Ramicane_df=Ramicane_final_box_df['Tumor Volume (mm3)']\n",
    "Ramicane_df=Ramicane_df.rename(columns={'Tumor Volume (mm3)':'Ramicane'})\n",
    "\n",
    "Ceftamin_final_box_df=mouse_final_timepoint_df.loc[mouse_final_timepoint_df['Drug Regimen']=='Ceftamin']\n",
    "Ceftamin_df=Ceftamin_final_box_df['Tumor Volume (mm3)']\n",
    "Ceftamin_df=Ceftamin_df.rename(columns={'Tumor Volume (mm3)':'Ceftamin'})\n",
    "\n",
    "  \n",
    "mouse_final_regime_box_df = pd.DataFrame({'Capomulin':Capomulin_df\n",
    "                  ,'Propriva':Propriva_df\n",
    "                    ,'Ramicane': Ramicane_df\n",
    "                     ,'Ceftamin':Ceftamin_df\n",
    "                        \n",
    "                    })\n",
    "\n",
    "\n",
    "mouse_final_regime_box_df\n",
    "mouse_final_regime_box_df.boxplot()\n",
    "mouse_final_regime_box_df=mouse_final_regime_box_df.fillna(0)\n",
    "mouse_final_regime_box_df\n",
    "plt.ylabel('Final Tumor Volume', labelpad=15)\n",
    "plt.suptitle(\"Final tumor volume for four regimens of interest \")\n",
    "\n",
    "\n",
    "\n",
    "\n",
    "\n",
    "plt.show()"
   ]
  },
  {
   "cell_type": "code",
   "execution_count": 35,
   "metadata": {},
   "outputs": [
    {
     "data": {
      "image/png": "[encoded data removed]",
      "text/plain": [
       "<Figure size 432x288 with 1 Axes>"
      ]
     },
     "metadata": {
      "needs_background": "light"
     },
     "output_type": "display_data"
    }
   ],
   "source": [
    "# Generate a line plot of time point versus tumor volume for a mouse treated with Capomulin\n",
    "Capomulin_mouse_data=mouse_data.loc[mouse_data['Drug Regimen']=='Capomulin']\n",
    "Capomulin_mouse_data_s185=Capomulin_mouse_data.loc[mouse_data['Mouse ID']=='s185']\n",
    "Capomulin_mouse_data_s185=Capomulin_mouse_data_s185.reset_index()\n",
    "x_axis1=Capomulin_mouse_data_s185['Timepoint']\n",
    "y_axis1=Capomulin_mouse_data_s185['Tumor Volume (mm3)']\n",
    "plt.plot(x_axis1,y_axis1)\n",
    "plt.xlabel('Timepoint', labelpad=15)\n",
    "plt.ylabel('Tumor Volume (mm3)', labelpad=15)\n",
    "plt.suptitle(\"Capomulin treatment regime analysis for mouse s185 \")\n",
    "\n",
    "plt.show()\n",
    "\n"
   ]
  },
  {
   "cell_type": "code",
   "execution_count": 36,
   "metadata": {},
   "outputs": [
    {
     "data": {
      "image/png": "[encoded data removed]",
      "text/plain": [
       "<Figure size 432x288 with 1 Axes>"
      ]
     },
     "metadata": {
      "needs_background": "light"
     },
     "output_type": "display_data"
    }
   ],
   "source": [
    "# Generate a scatter plot of mouse weight versus average tumor volume for the Capomulin regimen\n",
    "Capomulin_mouse_data_gp=Capomulin_mouse_data.groupby('Mouse ID')\n",
    "y_axis= Capomulin_mouse_data_gp[['Tumor Volume (mm3)']].mean()\n",
    "x_axis = Capomulin_mouse_data_gp[['Weight (g)']].mean()\n",
    "\n",
    "plt.scatter(x=x_axis ,y=y_axis)\n",
    "plt.xlabel('Weight (g)', labelpad=15)\n",
    "plt.ylabel('Average Tumor Volume (mm3)', labelpad=15)\n",
    "plt.suptitle(\"Capomulin treatment regime and weight analysis \")\n",
    "plt.show()"
   ]
  },
  {
   "cell_type": "code",
   "execution_count": 37,
   "metadata": {},
   "outputs": [
    {
     "name": "stdout",
     "output_type": "stream",
     "text": [
      "The correlation between both factors is 0.84\n"
     ]
    },
    {
     "data": {
      "image/png": "[encoded data removed]",
      "text/plain": [
       "<Figure size 432x288 with 1 Axes>"
      ]
     },
     "metadata": {
      "needs_background": "light"
     },
     "output_type": "display_data"
    }
   ],
   "source": [
    "# Calculate the correlation coefficient for mouse weight and average tumor volume for the Capomulin regimen\n",
    "weight = x_axis['Weight (g)'].tolist()\n",
    "Avg_tumor_volume = y_axis['Tumor Volume (mm3)'].tolist()\n",
    "correlation = st.pearsonr(weight,Avg_tumor_volume)\n",
    "print(f\"The correlation between both factors is {round(correlation[0],2)}\")\n",
    "# linear regression model for mouse weight and average tumor volume for the Capomulin regimen\n",
    "(slope, intercept, rvalue, pvalue, stderr) = linregress(weight , Avg_tumor_volume)\n",
    "regress_values = np.asarray(weight)  * slope + intercept\n",
    "line_eq = \"y = \" + str(slope) + \"x + \" + str(round(intercept,2))\n",
    "plt.scatter(weight ,Avg_tumor_volume)\n",
    "plt.plot(weight ,regress_values,\"r-\")\n",
    "plt.xlabel('Weight (g)')\n",
    "plt.ylabel('Average Tumor Volume (mm3)')\n",
    "plt.show()\n",
    "\n"
   ]
  },
  {
   "cell_type": "code",
   "execution_count": null,
   "metadata": {},
   "outputs": [],
   "source": []
  }
 ],
 "metadata": {
  "kernelspec": {
   "display_name": "Python 3",
   "language": "python",
   "name": "python3"
  },
  "language_info": {
   "codemirror_mode": {
    "name": "ipython",
    "version": 3
   },
   "file_extension": ".py",
   "mimetype": "text/x-python",
   "name": "python",
   "nbconvert_exporter": "python",
   "pygments_lexer": "ipython3",
   "version": "3.6.9"
  }
 },
 "nbformat": 4,
 "nbformat_minor": 2
}
